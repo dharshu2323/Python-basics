{
 "cells": [
  {
   "cell_type": "code",
   "execution_count": 1,
   "id": "6e2191d8",
   "metadata": {},
   "outputs": [],
   "source": [
    "import math"
   ]
  },
  {
   "cell_type": "code",
   "execution_count": 2,
   "id": "760ce5b6",
   "metadata": {},
   "outputs": [
    {
     "data": {
      "text/plain": [
       "3.141592653589793"
      ]
     },
     "execution_count": 2,
     "metadata": {},
     "output_type": "execute_result"
    }
   ],
   "source": [
    "math.pi"
   ]
  },
  {
   "cell_type": "code",
   "execution_count": 3,
   "id": "dcfc6e07",
   "metadata": {},
   "outputs": [
    {
     "data": {
      "text/plain": [
       "2.718281828459045"
      ]
     },
     "execution_count": 3,
     "metadata": {},
     "output_type": "execute_result"
    }
   ],
   "source": [
    "math.e"
   ]
  },
  {
   "cell_type": "code",
   "execution_count": 4,
   "id": "8f09a5e7",
   "metadata": {},
   "outputs": [
    {
     "data": {
      "text/plain": [
       "120"
      ]
     },
     "execution_count": 4,
     "metadata": {},
     "output_type": "execute_result"
    }
   ],
   "source": [
    "math.factorial(5)"
   ]
  },
  {
   "cell_type": "code",
   "execution_count": 6,
   "id": "0e5ee143",
   "metadata": {},
   "outputs": [
    {
     "data": {
      "text/plain": [
       "1.4142135623730951"
      ]
     },
     "execution_count": 6,
     "metadata": {},
     "output_type": "execute_result"
    }
   ],
   "source": [
    "math.sqrt(2)"
   ]
  },
  {
   "cell_type": "code",
   "execution_count": 7,
   "id": "236eb012",
   "metadata": {},
   "outputs": [],
   "source": [
    "a=2.3"
   ]
  },
  {
   "cell_type": "code",
   "execution_count": 8,
   "id": "293331d9",
   "metadata": {},
   "outputs": [
    {
     "data": {
      "text/plain": [
       "3"
      ]
     },
     "execution_count": 8,
     "metadata": {},
     "output_type": "execute_result"
    }
   ],
   "source": [
    "math.ceil(a)"
   ]
  },
  {
   "cell_type": "code",
   "execution_count": 9,
   "id": "bf8d9f33",
   "metadata": {},
   "outputs": [
    {
     "data": {
      "text/plain": [
       "2"
      ]
     },
     "execution_count": 9,
     "metadata": {},
     "output_type": "execute_result"
    }
   ],
   "source": [
    "math.floor(a)"
   ]
  },
  {
   "cell_type": "code",
   "execution_count": 11,
   "id": "2d7b385f",
   "metadata": {},
   "outputs": [
    {
     "data": {
      "text/plain": [
       "5"
      ]
     },
     "execution_count": 11,
     "metadata": {},
     "output_type": "execute_result"
    }
   ],
   "source": [
    "math.gcd(5,10,15)"
   ]
  },
  {
   "cell_type": "code",
   "execution_count": 12,
   "id": "c5f77baa",
   "metadata": {},
   "outputs": [
    {
     "data": {
      "text/plain": [
       "5.0"
      ]
     },
     "execution_count": 12,
     "metadata": {},
     "output_type": "execute_result"
    }
   ],
   "source": [
    "math.fabs(-5)"
   ]
  },
  {
   "cell_type": "markdown",
   "id": "ba286498",
   "metadata": {},
   "source": [
    "# Square"
   ]
  },
  {
   "cell_type": "code",
   "execution_count": 1,
   "id": "d97be730",
   "metadata": {},
   "outputs": [
    {
     "name": "stdout",
     "output_type": "stream",
     "text": [
      "Enter a number5\n",
      "Area of square: 25\n"
     ]
    }
   ],
   "source": [
    "side=int(input(\"Enter a number\"))\n",
    "Area=side*side\n",
    "print(\"Area of square:\",Area)"
   ]
  },
  {
   "cell_type": "markdown",
   "id": "7ee6e56b",
   "metadata": {},
   "source": [
    "# Rectangle"
   ]
  },
  {
   "cell_type": "code",
   "execution_count": 5,
   "id": "a8e9ff3e",
   "metadata": {},
   "outputs": [
    {
     "name": "stdout",
     "output_type": "stream",
     "text": [
      "Enter rectangle's length: 5\n",
      "Enter rectangle's breadth: 6\n",
      "The area of rectangle is:30\n"
     ]
    }
   ],
   "source": [
    "l = int(input(\"Enter rectangle's length: \"))\n",
    "b = int(input(\"Enter rectangle's breadth: \"))\n",
    "rect_area = l * b\n",
    "print(f\"The area of rectangle is:{rect_area}\")"
   ]
  },
  {
   "cell_type": "markdown",
   "id": "440410fd",
   "metadata": {},
   "source": [
    "# Triangle"
   ]
  },
  {
   "cell_type": "code",
   "execution_count": 7,
   "id": "98b740ca",
   "metadata": {},
   "outputs": [
    {
     "name": "stdout",
     "output_type": "stream",
     "text": [
      "Enter triangle's height: 5\n",
      "Enter triangle's breadth: 1225\n",
      "The area of triangle is:3062.5\n"
     ]
    }
   ],
   "source": [
    "h = int(input(\"Enter triangle's height: \"))\n",
    "b = int(input(\"Enter triangle's breadth: \"))\n",
    "tri_area = 0.5 * b * h\n",
    "print(f\"The area of triangle is:{tri_area}\")      "
   ]
  },
  {
   "cell_type": "markdown",
   "id": "c9683b40",
   "metadata": {},
   "source": [
    "# Cricle"
   ]
  },
  {
   "cell_type": "code",
   "execution_count": 8,
   "id": "7d9b5216",
   "metadata": {},
   "outputs": [
    {
     "name": "stdout",
     "output_type": "stream",
     "text": [
      "Enter circle's radius: 5\n",
      "The area of circle is:78.5\n"
     ]
    }
   ],
   "source": [
    "r = int(input(\"Enter circle's radius: \"))\n",
    "pi = 3.14\n",
    "circ_area = pi * r * r\n",
    "print(f\"The area of circle is:{circ_area}\")"
   ]
  },
  {
   "cell_type": "code",
   "execution_count": null,
   "id": "506b8c52",
   "metadata": {},
   "outputs": [],
   "source": []
  },
  {
   "cell_type": "code",
   "execution_count": null,
   "id": "ceef16c5",
   "metadata": {},
   "outputs": [],
   "source": []
  }
 ],
 "metadata": {
  "kernelspec": {
   "display_name": "Python 3 (ipykernel)",
   "language": "python",
   "name": "python3"
  },
  "language_info": {
   "codemirror_mode": {
    "name": "ipython",
    "version": 3
   },
   "file_extension": ".py",
   "mimetype": "text/x-python",
   "name": "python",
   "nbconvert_exporter": "python",
   "pygments_lexer": "ipython3",
   "version": "3.9.7"
  }
 },
 "nbformat": 4,
 "nbformat_minor": 5
}
