{
 "cells": [
  {
   "cell_type": "markdown",
   "id": "53d4ed88",
   "metadata": {},
   "source": [
    "# Positive or negative"
   ]
  },
  {
   "cell_type": "code",
   "execution_count": 1,
   "id": "e4554d2b",
   "metadata": {
    "slideshow": {
     "slide_type": "notes"
    }
   },
   "outputs": [
    {
     "name": "stdout",
     "output_type": "stream",
     "text": [
      "Enter a number:5\n",
      "Positive number\n"
     ]
    }
   ],
   "source": [
    "num=int(input(\"Enter a number:\"))\n",
    "if num>0:\n",
    "    print(\"Positive number\")\n",
    "else:\n",
    "    print(\"Negative number\")"
   ]
  },
  {
   "cell_type": "markdown",
   "id": "307e4aae",
   "metadata": {},
   "source": [
    "# Odd or Even"
   ]
  },
  {
   "cell_type": "code",
   "execution_count": 4,
   "id": "fcbf66eb",
   "metadata": {},
   "outputs": [
    {
     "name": "stdout",
     "output_type": "stream",
     "text": [
      "Enter a number:5\n",
      "5 is Odd\n"
     ]
    }
   ],
   "source": [
    "num=int(input(\"Enter a number:\"))\n",
    "if (num % 2) == 0:\n",
    "   print(\"{0} is Even\".format(num))\n",
    "else:\n",
    "   print(\"{0} is Odd\".format(num))"
   ]
  },
  {
   "cell_type": "markdown",
   "id": "7156211e",
   "metadata": {},
   "source": [
    "# Leap year"
   ]
  },
  {
   "cell_type": "code",
   "execution_count": 2,
   "id": "0f767532",
   "metadata": {},
   "outputs": [
    {
     "name": "stdout",
     "output_type": "stream",
     "text": [
      "Enter a number:2004\n",
      "2004  is a leap year\n"
     ]
    }
   ],
   "source": [
    "num=int(input(\"Enter a number:\"))\n",
    "if(num%2==0):\n",
    "    print(num,\" is a leap year\")\n",
    "else:\n",
    "    print(num,\" not a leap year\")"
   ]
  },
  {
   "cell_type": "markdown",
   "id": "ba8e7daa",
   "metadata": {},
   "source": [
    "# Prime number"
   ]
  },
  {
   "cell_type": "code",
   "execution_count": 15,
   "id": "f08bff75",
   "metadata": {},
   "outputs": [
    {
     "name": "stdout",
     "output_type": "stream",
     "text": [
      "Enter a number: 5\n",
      "5 is a prime number\n"
     ]
    }
   ],
   "source": [
    "num = int(input(\"Enter a number: \"))\n",
    "if num > 1:\n",
    "    for i in range(2, int(num/2)+1):\n",
    "        if (num % i) == 0:\n",
    "            print(num, \"is not a prime number\")\n",
    "        else:\n",
    "            print(num, \"is a prime number\")\n",
    "else:\n",
    "    print(num, \"is not a prime number\")"
   ]
  },
  {
   "cell_type": "markdown",
   "id": "c02fe39a",
   "metadata": {},
   "source": [
    "# Factorial"
   ]
  },
  {
   "cell_type": "code",
   "execution_count": 19,
   "id": "ffc4d66b",
   "metadata": {},
   "outputs": [
    {
     "name": "stdout",
     "output_type": "stream",
     "text": [
      "Enter a number5\n",
      "The factorial of 5 is 120\n"
     ]
    }
   ],
   "source": [
    "num=int(input(\"Enter a number\"))\n",
    "fact=1\n",
    "if num<0:\n",
    "    print(\"Doesn't exists\")\n",
    "elif (num==0):\n",
    "    print(\"Factorial of 0 is 1\")\n",
    "else:\n",
    "    for i in range(1,num+1):\n",
    "        fact=fact*i\n",
    "    print(\"The factorial of\",num,\"is\",fact)"
   ]
  },
  {
   "cell_type": "markdown",
   "id": "021a1618",
   "metadata": {},
   "source": [
    "# Multiplication table"
   ]
  },
  {
   "cell_type": "code",
   "execution_count": 22,
   "id": "493c3965",
   "metadata": {},
   "outputs": [
    {
     "name": "stdout",
     "output_type": "stream",
     "text": [
      "Enter a number35\n",
      "35 x 1 = 35\n",
      "35 x 2 = 70\n",
      "35 x 3 = 105\n",
      "35 x 4 = 140\n",
      "35 x 5 = 175\n",
      "35 x 6 = 210\n",
      "35 x 7 = 245\n",
      "35 x 8 = 280\n",
      "35 x 9 = 315\n",
      "35 x 10 = 350\n"
     ]
    }
   ],
   "source": [
    "num=int(input(\"Enter a number\"))\n",
    "for i in range(1,11):\n",
    "    print(num,\"x\",i,\"=\",num*i)"
   ]
  },
  {
   "cell_type": "markdown",
   "id": "d469e9ef",
   "metadata": {},
   "source": [
    "# Pyramid"
   ]
  },
  {
   "cell_type": "code",
   "execution_count": 2,
   "id": "7b701c10",
   "metadata": {},
   "outputs": [
    {
     "name": "stdout",
     "output_type": "stream",
     "text": [
      "Enter the number of rows for the pyramid: 5\n",
      "    * \n",
      "   * * \n",
      "  * * * \n",
      " * * * * \n",
      "* * * * * \n"
     ]
    }
   ],
   "source": [
    "def print_pyramid(rows):\n",
    "    for i in range(1, rows + 1):\n",
    "        print(\" \" * (rows - i), end=\"\")\n",
    "        print(\"* \" * i)\n",
    "num_rows = int(input(\"Enter the number of rows for the pyramid: \"))\n",
    "print_pyramid(num_rows)"
   ]
  },
  {
   "cell_type": "code",
   "execution_count": 10,
   "id": "199c8958",
   "metadata": {},
   "outputs": [
    {
     "name": "stdout",
     "output_type": "stream",
     "text": [
      "Enter the number of rows for the pyramid: 5\n",
      "    * \n",
      "   * * \n",
      "  * * * \n",
      " * * * * \n",
      "* * * * * \n",
      " * * * * \n",
      "  * * * \n",
      "   * * \n",
      "    * \n"
     ]
    }
   ],
   "source": [
    "def print_pyramid(rows):\n",
    "    for i in range(1, rows + 1):    \n",
    "        print(\" \" * (rows - i), end=\"\")\n",
    "        print(\"* \" * i)\n",
    "    for i in range(rows - 1, 0, -1):\n",
    "        print(\" \" * (rows - i), end=\"\")\n",
    "        print(\"* \" * i)\n",
    "num_rows = int(input(\"Enter the number of rows for the pyramid: \"))\n",
    "print_pyramid(num_rows)"
   ]
  },
  {
   "cell_type": "markdown",
   "id": "6be00afc",
   "metadata": {},
   "source": [
    "# Fibonacci series"
   ]
  },
  {
   "cell_type": "code",
   "execution_count": 17,
   "id": "4d5ae09a",
   "metadata": {},
   "outputs": [
    {
     "name": "stdout",
     "output_type": "stream",
     "text": [
      "Enter the terms:5\n",
      "Fibonacci sequence\n",
      "0\n",
      "1\n",
      "1\n",
      "2\n",
      "3\n"
     ]
    }
   ],
   "source": [
    "num = int(input(\"Enter the terms:\"))\n",
    "n1, n2 = 0, 1\n",
    "count = 0\n",
    "if(num<0):\n",
    "    print(\"Negatvive number\")\n",
    "elif nterms == 1:\n",
    "    print(\"Fibonacci sequence upto\",nterms,\":\")\n",
    "    print(n1)\n",
    "else: \n",
    "    print(\"Fibonacci sequence\")\n",
    "    while count < nterms:\n",
    "        print(n1)\n",
    "        nth = n1 + n2\n",
    "        n1 = n2\n",
    "        n2 = nth\n",
    "        count += 1"
   ]
  },
  {
   "cell_type": "markdown",
   "id": "d613049f",
   "metadata": {},
   "source": [
    "# Amstrong Number"
   ]
  },
  {
   "cell_type": "code",
   "execution_count": 20,
   "id": "863f08fc",
   "metadata": {},
   "outputs": [
    {
     "name": "stdout",
     "output_type": "stream",
     "text": [
      "Enter a number: 153\n",
      "153 is an Armstrong number\n"
     ]
    }
   ],
   "source": [
    "num = int(input(\"Enter a number: \"))\n",
    "sum = 0\n",
    "temp = num\n",
    "while temp > 0:\n",
    "    digit = temp % 10\n",
    "    sum += digit ** 3\n",
    "    temp //= 10\n",
    "if num == sum:\n",
    "    print(num,\"is an Armstrong number\")\n",
    "else:\n",
    "    print(num,\"is not an Armstrong number\")\n"
   ]
  },
  {
   "cell_type": "markdown",
   "id": "1b6d226e",
   "metadata": {},
   "source": [
    "# Conversion"
   ]
  },
  {
   "cell_type": "code",
   "execution_count": 22,
   "id": "d0d6955f",
   "metadata": {},
   "outputs": [
    {
     "name": "stdout",
     "output_type": "stream",
     "text": [
      "The decimal value of 10 is:\n",
      "0b1010 in binary.\n",
      "0o12 in octal.\n",
      "0xa in hexadecimal.\n"
     ]
    }
   ],
   "source": [
    "dec = 10\n",
    "print(\"The decimal value of\", dec, \"is:\")\n",
    "print(bin(dec), \"in binary.\")\n",
    "print(oct(dec), \"in octal.\")\n",
    "print(hex(dec), \"in hexadecimal.\")\n"
   ]
  },
  {
   "cell_type": "code",
   "execution_count": null,
   "id": "f1497264",
   "metadata": {},
   "outputs": [],
   "source": []
  }
 ],
 "metadata": {
  "kernelspec": {
   "display_name": "Python 3 (ipykernel)",
   "language": "python",
   "name": "python3"
  },
  "language_info": {
   "codemirror_mode": {
    "name": "ipython",
    "version": 3
   },
   "file_extension": ".py",
   "mimetype": "text/x-python",
   "name": "python",
   "nbconvert_exporter": "python",
   "pygments_lexer": "ipython3",
   "version": "3.9.7"
  }
 },
 "nbformat": 4,
 "nbformat_minor": 5
}
