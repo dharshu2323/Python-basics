{
 "cells": [
  {
   "cell_type": "markdown",
   "id": "ccaf9e55",
   "metadata": {},
   "source": [
    "# HELLO"
   ]
  },
  {
   "cell_type": "markdown",
   "id": "5fb09409",
   "metadata": {},
   "source": [
    " Welcome to my notebook, here you can find the all the basic python programs"
   ]
  },
  {
   "cell_type": "markdown",
   "id": "b350396a",
   "metadata": {},
   "source": [
    "# HELLO WORLD "
   ]
  },
  {
   "cell_type": "code",
   "execution_count": 2,
   "id": "7f185d79",
   "metadata": {},
   "outputs": [
    {
     "name": "stdout",
     "output_type": "stream",
     "text": [
      "Hello World!\n"
     ]
    }
   ],
   "source": [
    "print(\"Hello World!\")"
   ]
  },
  {
   "cell_type": "markdown",
   "id": "53197bf7",
   "metadata": {},
   "source": [
    "# Declaring Variables"
   ]
  },
  {
   "cell_type": "markdown",
   "id": "c4534703",
   "metadata": {},
   "source": [
    "In python we no need to declare variable with their data type.\n",
    "Strings and characters must be declared within singel or double quotes.\n",
    "The values are assigned from left to variable.It can be character and numbers but no special cases and it can start with underscore not numbers"
   ]
  },
  {
   "cell_type": "code",
   "execution_count": 16,
   "id": "dda420bc",
   "metadata": {},
   "outputs": [
    {
     "name": "stdout",
     "output_type": "stream",
     "text": [
      "15\n"
     ]
    }
   ],
   "source": [
    "_a=5\n",
    "b1=10\n",
    "c=_a+b1\n",
    "print(c)"
   ]
  },
  {
   "cell_type": "code",
   "execution_count": 5,
   "id": "12932555",
   "metadata": {},
   "outputs": [
    {
     "name": "stdout",
     "output_type": "stream",
     "text": [
      "a\n",
      "Happy coding!\n"
     ]
    }
   ],
   "source": [
    "a=\"Happy coding!\"\n",
    "print(\"a\")\n",
    "print(a)"
   ]
  },
  {
   "cell_type": "markdown",
   "id": "02790cab",
   "metadata": {},
   "source": [
    "You can see the difference between two print statement. In first case it printed \"a\" that's been declared within quotes whereas in second case the value assigned to variable gets printed that's not been declared within quotes "
   ]
  },
  {
   "cell_type": "markdown",
   "id": "f6d8d885",
   "metadata": {},
   "source": [
    "# Run time input"
   ]
  },
  {
   "cell_type": "code",
   "execution_count": 40,
   "id": "a7d7e323",
   "metadata": {},
   "outputs": [
    {
     "name": "stdout",
     "output_type": "stream",
     "text": [
      "Enter the number:100\n",
      "Your name:cat\n"
     ]
    }
   ],
   "source": [
    "a=int(input(\"Enter the number:\"))\n",
    "b=input(\"Your name:\")"
   ]
  },
  {
   "cell_type": "markdown",
   "id": "12d39fa4",
   "metadata": {},
   "source": [
    "# Operators and Operations"
   ]
  },
  {
   "cell_type": "markdown",
   "id": "253f44be",
   "metadata": {},
   "source": [
    "The operators used in python are +,-,*,/,%,>>,<<,&,^,|,~,Modus operator-% returns remainder"
   ]
  },
  {
   "cell_type": "code",
   "execution_count": 8,
   "id": "e5ffc27b",
   "metadata": {},
   "outputs": [
    {
     "name": "stdout",
     "output_type": "stream",
     "text": [
      "30 -10 200 0.5 10\n"
     ]
    }
   ],
   "source": [
    "a=10\n",
    "b=20\n",
    "c=a+b\n",
    "d=a-b\n",
    "e=a*b\n",
    "f=a/b\n",
    "g=a%b\n",
    "print(c,d,e,f,g)"
   ]
  },
  {
   "cell_type": "markdown",
   "id": "3790f994",
   "metadata": {},
   "source": [
    "Bitwise shift left <<,\n",
    "Bitwise shift right >>,\n",
    "Bitwise AND &,\n",
    "Bitwise OR |,\n",
    "Bitwise XOR ^,\n",
    "Bitwise NOT ~."
   ]
  },
  {
   "cell_type": "markdown",
   "id": "940847b8",
   "metadata": {},
   "source": [
    "EG:Let's take two variables x and y x=10 and y=40 and their binary values are 1010 and 101000"
   ]
  },
  {
   "cell_type": "code",
   "execution_count": 14,
   "id": "eede9eb6",
   "metadata": {},
   "outputs": [
    {
     "name": "stdout",
     "output_type": "stream",
     "text": [
      "\n",
      " x&y -> 8\n",
      "\n",
      " x|y -> 42\n",
      "\n",
      " x^y -> 34\n",
      "\n",
      " ~x -> -11\n",
      "\n",
      " ~z -> 19\n"
     ]
    }
   ],
   "source": [
    "x=10\n",
    "y=40\n",
    "z=-20\n",
    "print(\"\\n x&y ->\",x&y)\n",
    "print(\"\\n x|y ->\",x|y)\n",
    "print(\"\\n x^y ->\",x^y)\n",
    "print(\"\\n ~x ->\",~x)\n",
    "print(\"\\n ~z ->\",~z)"
   ]
  },
  {
   "cell_type": "code",
   "execution_count": 13,
   "id": "4e879a5b",
   "metadata": {},
   "outputs": [
    {
     "name": "stdout",
     "output_type": "stream",
     "text": [
      "Shift left -> 20\n",
      "Shift right -> 10\n"
     ]
    }
   ],
   "source": [
    "print(\"Shift left ->\",x<<1)\n",
    "print(\"Shift right ->\",y>>2)"
   ]
  },
  {
   "cell_type": "markdown",
   "id": "c1932910",
   "metadata": {},
   "source": [
    "The other operators are +=,-=,*=,/=,%= "
   ]
  },
  {
   "cell_type": "code",
   "execution_count": 23,
   "id": "48bc65a8",
   "metadata": {},
   "outputs": [
    {
     "name": "stdout",
     "output_type": "stream",
     "text": [
      "110\n"
     ]
    }
   ],
   "source": [
    "a=100\n",
    "a+=10\n",
    "print(a)"
   ]
  },
  {
   "cell_type": "markdown",
   "id": "1b3a4b7c",
   "metadata": {},
   "source": [
    "# Concatenate "
   ]
  },
  {
   "cell_type": "markdown",
   "id": "b0677d56",
   "metadata": {},
   "source": [
    "The symbol \"+\" is used to concate two string values"
   ]
  },
  {
   "cell_type": "code",
   "execution_count": 19,
   "id": "4702c132",
   "metadata": {},
   "outputs": [
    {
     "name": "stdout",
     "output_type": "stream",
     "text": [
      "Hello1010\n"
     ]
    }
   ],
   "source": [
    "var1=\"Hello\"\n",
    "var2=\"1010\"\n",
    "res=var1+var2\n",
    "print(res)"
   ]
  },
  {
   "cell_type": "markdown",
   "id": "80601431",
   "metadata": {},
   "source": [
    "# Decision Making "
   ]
  },
  {
   "cell_type": "markdown",
   "id": "eff5a96f",
   "metadata": {},
   "source": [
    "The decision making are: if,if else,elif"
   ]
  },
  {
   "cell_type": "code",
   "execution_count": 28,
   "id": "a5de50d5",
   "metadata": {},
   "outputs": [],
   "source": [
    "x=10\n",
    "if(x<1):\n",
    "    print(x)"
   ]
  },
  {
   "cell_type": "code",
   "execution_count": 27,
   "id": "fa8e2e60",
   "metadata": {},
   "outputs": [
    {
     "name": "stdout",
     "output_type": "stream",
     "text": [
      "30\n"
     ]
    }
   ],
   "source": [
    "x=20\n",
    "y=30\n",
    "if(x<y):\n",
    "    print(y)\n",
    "else:\n",
    "    print(x)"
   ]
  },
  {
   "cell_type": "code",
   "execution_count": 33,
   "id": "e7e89750",
   "metadata": {},
   "outputs": [
    {
     "name": "stdout",
     "output_type": "stream",
     "text": [
      "20\n"
     ]
    }
   ],
   "source": [
    "x=20\n",
    "y=30\n",
    "z=40\n",
    "if(x>y):\n",
    "    print(z)\n",
    "elif(x<z):\n",
    "    print(x)\n",
    "else:\n",
    "    print(y)"
   ]
  },
  {
   "cell_type": "markdown",
   "id": "b6f2caea",
   "metadata": {},
   "source": [
    "# Loops"
   ]
  },
  {
   "cell_type": "markdown",
   "id": "6d085cdc",
   "metadata": {},
   "source": [
    "The loops are for and while "
   ]
  },
  {
   "cell_type": "code",
   "execution_count": 44,
   "id": "66cde93f",
   "metadata": {},
   "outputs": [
    {
     "name": "stdout",
     "output_type": "stream",
     "text": [
      "Hello\n",
      "Hello\n",
      "Hello\n",
      "Hello\n",
      "Hello\n",
      "Hello\n"
     ]
    }
   ],
   "source": [
    "count=0\n",
    "while count <= 5:\n",
    "        print(\"Hello\")\n",
    "        count += 1\n"
   ]
  },
  {
   "cell_type": "code",
   "execution_count": 43,
   "id": "58110bac",
   "metadata": {},
   "outputs": [
    {
     "name": "stdout",
     "output_type": "stream",
     "text": [
      "1\n",
      "2\n",
      "3\n",
      "4\n"
     ]
    }
   ],
   "source": [
    "numbers=1,2,3,4\n",
    "for number in numbers:\n",
    "        print(number)"
   ]
  },
  {
   "cell_type": "markdown",
   "id": "1510849d",
   "metadata": {},
   "source": [
    "# Boolean"
   ]
  },
  {
   "cell_type": "markdown",
   "id": "8547a564",
   "metadata": {},
   "source": [
    "Boolean is of two types True and False"
   ]
  },
  {
   "cell_type": "code",
   "execution_count": 48,
   "id": "752a471d",
   "metadata": {},
   "outputs": [
    {
     "name": "stdout",
     "output_type": "stream",
     "text": [
      "It's a sunny day! Don't forget your sunscreen.\n"
     ]
    }
   ],
   "source": [
    "is_sunny = True\n",
    "is_raining = False\n",
    "if is_sunny:\n",
    "    print(\"It's a sunny day! Don't forget your sunscreen.\")\n",
    "else:\n",
    "    print(\"It's not sunny today. Bring an umbrella, just in case!\")\n",
    "\n",
    "    "
   ]
  },
  {
   "cell_type": "code",
   "execution_count": 51,
   "id": "335af1f5",
   "metadata": {},
   "outputs": [
    {
     "name": "stdout",
     "output_type": "stream",
     "text": [
      "It's raining. Stay indoors and cozy up with a book.\n"
     ]
    }
   ],
   "source": [
    " if is_raining:\n",
    "        print(\"No rain in the forecast. Enjoy your day outdoors.\")\n",
    "else:\n",
    "        print(\"It's raining. Stay indoors and cozy up with a book.\")"
   ]
  },
  {
   "cell_type": "markdown",
   "id": "68ac177e",
   "metadata": {},
   "source": [
    "# User-defined function"
   ]
  },
  {
   "cell_type": "code",
   "execution_count": 52,
   "id": "3bcccc47",
   "metadata": {},
   "outputs": [
    {
     "name": "stdout",
     "output_type": "stream",
     "text": [
      "Enter number:10\n",
      "Enter number:20\n"
     ]
    },
    {
     "data": {
      "text/plain": [
       "30"
      ]
     },
     "execution_count": 52,
     "metadata": {},
     "output_type": "execute_result"
    }
   ],
   "source": [
    "def add(a,b):\n",
    "    c=a+b\n",
    "    return c\n",
    "var=int(input(\"Enter number:\"))\n",
    "var2=int(input(\"Enter number:\"))\n",
    "add(var,var2)"
   ]
  },
  {
   "cell_type": "markdown",
   "id": "23f5c1e9",
   "metadata": {},
   "source": [
    "# Swapping two variables"
   ]
  },
  {
   "cell_type": "code",
   "execution_count": 54,
   "id": "1cf97227",
   "metadata": {},
   "outputs": [
    {
     "name": "stdout",
     "output_type": "stream",
     "text": [
      "20\n",
      "10\n"
     ]
    }
   ],
   "source": [
    "x=10\n",
    "y=20\n",
    "x,y=y,x\n",
    "print(x)\n",
    "print(y)"
   ]
  },
  {
   "cell_type": "code",
   "execution_count": 55,
   "id": "ec4a0988",
   "metadata": {},
   "outputs": [
    {
     "name": "stdout",
     "output_type": "stream",
     "text": [
      "25 50\n"
     ]
    }
   ],
   "source": [
    "x=50\n",
    "y=25\n",
    "temp=x\n",
    "x=y\n",
    "y=temp\n",
    "print(x,y)"
   ]
  },
  {
   "cell_type": "markdown",
   "id": "bc548564",
   "metadata": {},
   "source": [
    "# String"
   ]
  },
  {
   "cell_type": "code",
   "execution_count": 59,
   "id": "51a5e7b9",
   "metadata": {},
   "outputs": [
    {
     "name": "stdout",
     "output_type": "stream",
     "text": [
      "Concatenated string: Hello, world! Python is fun\n",
      "Length of string1: 13\n",
      "First character: H\n",
      "Last character: !\n",
      "Substring: Hello\n",
      "Upper case: HELLO, WORLD!\n",
      "Lower case: python is fun\n",
      "Capitalized: This is a multi-line\n",
      "string in python\n"
     ]
    }
   ],
   "source": [
    "# Creating a string\n",
    "string1 = \"Hello, world!\"\n",
    "string2 = 'Python is fun'\n",
    "string3 = '''This is a multi-line\n",
    "string in Python'''\n",
    "\n",
    "# String concatenation\n",
    "concatenated_string = string1 + \" \" + string2\n",
    "print(\"Concatenated string:\", concatenated_string)\n",
    "\n",
    "# Length of the string\n",
    "length_of_string = len(string1)\n",
    "print(\"Length of string1:\", length_of_string)\n",
    "\n",
    "# Accessing characters in a string\n",
    "first_character = string1[0]\n",
    "last_character = string1[-1]\n",
    "print(\"First character:\", first_character)\n",
    "print(\"Last character:\", last_character)\n",
    "\n",
    "# Slicing a string\n",
    "substring = string1[0:5]\n",
    "print(\"Substring:\", substring)\n",
    "\n",
    "# String methods\n",
    "upper_case_string = string1.upper()\n",
    "lower_case_string = string2.lower()\n",
    "capitalized_string = string3.capitalize()\n",
    "\n",
    "print(\"Upper case:\", upper_case_string)\n",
    "print(\"Lower case:\", lower_case_string)\n",
    "print(\"Capitalized:\", capitalized_string)\n"
   ]
  }
 ],
 "metadata": {
  "kernelspec": {
   "display_name": "Python 3 (ipykernel)",
   "language": "python",
   "name": "python3"
  },
  "language_info": {
   "codemirror_mode": {
    "name": "ipython",
    "version": 3
   },
   "file_extension": ".py",
   "mimetype": "text/x-python",
   "name": "python",
   "nbconvert_exporter": "python",
   "pygments_lexer": "ipython3",
   "version": "3.9.7"
  }
 },
 "nbformat": 4,
 "nbformat_minor": 5
}
